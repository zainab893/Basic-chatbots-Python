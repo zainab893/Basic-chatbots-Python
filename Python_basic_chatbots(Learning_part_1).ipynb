{
  "nbformat": 4,
  "nbformat_minor": 0,
  "metadata": {
    "colab": {
      "provenance": []
    },
    "kernelspec": {
      "name": "python3",
      "display_name": "Python 3"
    },
    "language_info": {
      "name": "python"
    }
  },
  "cells": [
    {
      "cell_type": "code",
      "source": [
        "# LIBRARY-BOT (SIMPLE PYTHON BASIC BOT)"
      ],
      "metadata": {
        "id": "waMVov2TTpbu"
      },
      "execution_count": 1,
      "outputs": []
    },
    {
      "cell_type": "code",
      "source": [
        "# A simple python basic bot which is a library bot, helps user to find a good science book, best authors and also tell that it philosophical books as well"
      ],
      "metadata": {
        "id": "p6t9yxwcTwVP"
      },
      "execution_count": 2,
      "outputs": []
    },
    {
      "cell_type": "code",
      "source": [
        "responses = {\n",
        "    \"hello\" : \"hello there! how may i help you? \",\n",
        "    \"im looking for a good science book for space\" : \"Guide to earth and space might be a good option for you if you are looking for space book\",\n",
        "    \"can you tell me the best author for space books\" : \"Carl sagan, stephen hawking, Michio Kaku, Neil deGrasse Tyson and many more\",\n",
        "    \"do you only have science books\" : \"no, I have philiosophy books as well as humanity books\",\n",
        "    \"i will discover other books when i'll come again\" : \"sure! whynot I'll be waiting for you\",\n",
        "    \"thank you so much for your help\" : \"your most welcome! and don't forget to read the book I gave you\",\n",
        "    \"good bye library-bot\" : \"bye bye, have a nice day\"\n",
        "}\n",
        "\n",
        "print(\"Library-bot : Welcome to my Sciene and philosophy Library, I am a library-bot, I can help you find science and philosophical books\")\n",
        "while True:\n",
        "    user_input = input(\"you: \").lower().strip(\"?!. \")\n",
        "    if user_input in responses:\n",
        "        print(\"Libary-bot : \", responses[user_input])\n",
        "    elif \"good bye library-bot\" in user_input:\n",
        "        print(\"bye bye, have a nice day\")\n",
        "        break\n",
        "    else:\n",
        "      print(\"i am sorry, i dont know what you are talking about, my system is not smart enough yet\")"
      ],
      "metadata": {
        "colab": {
          "base_uri": "https://localhost:8080/"
        },
        "id": "4ua4bT4bTpeg",
        "outputId": "2956ded3-8b03-4114-9453-b6680fbae692"
      },
      "execution_count": 4,
      "outputs": [
        {
          "output_type": "stream",
          "name": "stdout",
          "text": [
            "Library-bot : Welcome to my Sciene and philosophy Library, I am a library-bot, I can help you find science and philosophical books\n",
            "you: hello\n",
            "Libary-bot :  hello there! how may i help you? \n",
            "you: im looking for a good science book for space\n",
            "Libary-bot :  Guide to earth and space might be a good option for you if you are looking for space book\n",
            "you: can you tell me the best author for space books\n",
            "Libary-bot :  Carl sagan, stephen hawking, Michio Kaku, Neil deGrasse Tyson and many more\n",
            "you: do you only have science books\n",
            "Libary-bot :  no, I have philiosophy books as well as humanity books\n",
            "you: i will discover other books when i'll come again\n",
            "Libary-bot :  sure! whynot I'll be waiting for you\n",
            "you: thank you so much for your help\n",
            "Libary-bot :  your most welcome! and don't forget to read the book I gave you\n",
            "you: can you tell me one philosophical book\n",
            "i am sorry, i dont know what you are talking about, my system is not smart enough yet\n",
            "you: good bye library-bot\n",
            "Libary-bot :  bye bye, have a nice day\n",
            "you: good bye library-bot\n",
            "Libary-bot :  bye bye, have a nice day\n",
            "you: good bye library-bott\n",
            "bye bye, have a nice day\n"
          ]
        }
      ]
    },
    {
      "cell_type": "code",
      "source": [
        "# Shoppingbot"
      ],
      "metadata": {
        "id": "IBW7n866n-3G"
      },
      "execution_count": 13,
      "outputs": []
    },
    {
      "cell_type": "code",
      "source": [
        "# A simple python basic bot which helps the user to find clothing store and opening times of the shop and operates in english as well as spansih languwage."
      ],
      "metadata": {
        "id": "KepY3tVzn_r0"
      },
      "execution_count": 14,
      "outputs": []
    },
    {
      "cell_type": "code",
      "source": [
        "responses = {\n",
        "    \"hola(hello)\" : \"bienvenido/a al centro comercial! ¿en qué puedo ayudarte hoy(welcome to the shopping center! how can I help you today)?\",\n",
        "    \"dónde está la tienda de ropa(where is the clothing store)\": \"la tienda de ropa está en el segundo piso, junto a la juguetería.(the clothing store is on the second floor, next to the toy store)\",\n",
        "    \"cuál es el horario de la tienda(what are the opening timings of the shop)\" : \"el centro comercial abre de 9am a 10pm, de lunes a domingo(open monday-sunday, 9am-10pm)\",\n",
        "    \"chao!(bye)\" : \"adiós(goodbye)\"\n",
        "}\n",
        "\n",
        "print(\"shoppingbot : bienvenido/a a mi tienda! ¿cómo puedo ayudarle hoy(Welcome to my shop! How may I assist you today)\")\n",
        "while True:\n",
        "    user_input = input(\"you: \").lower().strip()\n",
        "    if user_input in responses:\n",
        "        print(\"shoppingbot : \", responses[user_input])\n",
        "    elif \"bye\" in user_input:\n",
        "        print(\"Adiós(Goodbye)\")\n",
        "        break\n",
        "    else:\n",
        "        print(\"Ay! No comprendo bien todavía. Estoy aprendiendo(Oh no! I don't understand well yet. I'm learning)\")\n"
      ],
      "metadata": {
        "colab": {
          "base_uri": "https://localhost:8080/"
        },
        "id": "In6uJvx0Tph3",
        "outputId": "a462f64a-873b-4025-9482-4b090666a4b2"
      },
      "execution_count": 12,
      "outputs": [
        {
          "output_type": "stream",
          "name": "stdout",
          "text": [
            "shoppingbot : bienvenido/a a mi tienda! ¿cómo puedo ayudarle hoy(Welcome to my shop! How may I assist you today)\n",
            "you: hola(hello)\n",
            "shoppingbot :  bienvenido/a al centro comercial! ¿en qué puedo ayudarte hoy(welcome to the shopping center! how can I help you today)?\n",
            "you: dónde está la tienda de ropa(where is the clothing store)\n",
            "shoppingbot :  la tienda de ropa está en el segundo piso, junto a la juguetería.(the clothing store is on the second floor, next to the toy store)\n",
            "you: cuál es el horario de la tienda(what are the opening timings of the shop)\n",
            "shoppingbot :  el centro comercial abre de 9am a 10pm, de lunes a domingo(open monday-sunday, 9am-10pm)\n",
            "you: chao!(bye)\n",
            "shoppingbot :  adiós(goodbye)\n",
            "you: chao!(byee)\n",
            "Adiós(Goodbye)\n"
          ]
        }
      ]
    },
    {
      "cell_type": "code",
      "source": [],
      "metadata": {
        "id": "MaZeLFSyTple"
      },
      "execution_count": null,
      "outputs": []
    }
  ]
}